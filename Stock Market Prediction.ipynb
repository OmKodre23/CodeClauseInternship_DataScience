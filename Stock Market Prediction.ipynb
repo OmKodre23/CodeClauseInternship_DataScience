{
 "cells": [
  {
   "cell_type": "code",
   "execution_count": 5,
   "id": "d146cd52",
   "metadata": {},
   "outputs": [
    {
     "name": "stdout",
     "output_type": "stream",
     "text": [
      "Requirement already satisfied: plotly in c:\\users\\omkod\\desktop\\sample_project_1\\env\\lib\\site-packages (5.18.0)\n",
      "Requirement already satisfied: tenacity>=6.2.0 in c:\\users\\omkod\\desktop\\sample_project_1\\env\\lib\\site-packages (from plotly) (8.2.3)\n",
      "Requirement already satisfied: packaging in c:\\users\\omkod\\desktop\\sample_project_1\\env\\lib\\site-packages (from plotly) (23.0)\n"
     ]
    }
   ],
   "source": [
    "!pip install plotly"
   ]
  },
  {
   "cell_type": "code",
   "execution_count": 10,
   "id": "a8b02ca8",
   "metadata": {},
   "outputs": [],
   "source": [
    "import pandas as pd\n",
    "import numpy as np\n",
    "import matplotlib.pyplot as plt\n",
    "from sklearn.preprocessing import MinMaxScaler\n",
    "from keras.models import Sequential\n",
    "from keras.layers import Dense,LSTM,Dropout\n"
   ]
  },
  {
   "cell_type": "code",
   "execution_count": 12,
   "id": "8a25de89",
   "metadata": {},
   "outputs": [
    {
     "data": {
      "text/html": [
       "<div>\n",
       "<style scoped>\n",
       "    .dataframe tbody tr th:only-of-type {\n",
       "        vertical-align: middle;\n",
       "    }\n",
       "\n",
       "    .dataframe tbody tr th {\n",
       "        vertical-align: top;\n",
       "    }\n",
       "\n",
       "    .dataframe thead th {\n",
       "        text-align: right;\n",
       "    }\n",
       "</style>\n",
       "<table border=\"1\" class=\"dataframe\">\n",
       "  <thead>\n",
       "    <tr style=\"text-align: right;\">\n",
       "      <th></th>\n",
       "      <th>Date</th>\n",
       "      <th>Open</th>\n",
       "      <th>High</th>\n",
       "      <th>Low</th>\n",
       "      <th>Close</th>\n",
       "      <th>Volume</th>\n",
       "    </tr>\n",
       "  </thead>\n",
       "  <tbody>\n",
       "    <tr>\n",
       "      <th>0</th>\n",
       "      <td>1/3/2012</td>\n",
       "      <td>325.25</td>\n",
       "      <td>332.83</td>\n",
       "      <td>324.97</td>\n",
       "      <td>663.59</td>\n",
       "      <td>7,380,500</td>\n",
       "    </tr>\n",
       "    <tr>\n",
       "      <th>1</th>\n",
       "      <td>1/4/2012</td>\n",
       "      <td>331.27</td>\n",
       "      <td>333.87</td>\n",
       "      <td>329.08</td>\n",
       "      <td>666.45</td>\n",
       "      <td>5,749,400</td>\n",
       "    </tr>\n",
       "    <tr>\n",
       "      <th>2</th>\n",
       "      <td>1/5/2012</td>\n",
       "      <td>329.83</td>\n",
       "      <td>330.75</td>\n",
       "      <td>326.89</td>\n",
       "      <td>657.21</td>\n",
       "      <td>6,590,300</td>\n",
       "    </tr>\n",
       "    <tr>\n",
       "      <th>3</th>\n",
       "      <td>1/6/2012</td>\n",
       "      <td>328.34</td>\n",
       "      <td>328.77</td>\n",
       "      <td>323.68</td>\n",
       "      <td>648.24</td>\n",
       "      <td>5,405,900</td>\n",
       "    </tr>\n",
       "    <tr>\n",
       "      <th>4</th>\n",
       "      <td>1/9/2012</td>\n",
       "      <td>322.04</td>\n",
       "      <td>322.29</td>\n",
       "      <td>309.46</td>\n",
       "      <td>620.76</td>\n",
       "      <td>11,688,800</td>\n",
       "    </tr>\n",
       "  </tbody>\n",
       "</table>\n",
       "</div>"
      ],
      "text/plain": [
       "       Date    Open    High     Low   Close      Volume\n",
       "0  1/3/2012  325.25  332.83  324.97  663.59   7,380,500\n",
       "1  1/4/2012  331.27  333.87  329.08  666.45   5,749,400\n",
       "2  1/5/2012  329.83  330.75  326.89  657.21   6,590,300\n",
       "3  1/6/2012  328.34  328.77  323.68  648.24   5,405,900\n",
       "4  1/9/2012  322.04  322.29  309.46  620.76  11,688,800"
      ]
     },
     "execution_count": 12,
     "metadata": {},
     "output_type": "execute_result"
    }
   ],
   "source": [
    "data = pd.read_csv('Google_train_data.csv')\n",
    "data.head()"
   ]
  },
  {
   "cell_type": "code",
   "execution_count": 13,
   "id": "4a78b4c9",
   "metadata": {},
   "outputs": [
    {
     "name": "stdout",
     "output_type": "stream",
     "text": [
      "<class 'pandas.core.frame.DataFrame'>\n",
      "RangeIndex: 1258 entries, 0 to 1257\n",
      "Data columns (total 6 columns):\n",
      " #   Column  Non-Null Count  Dtype  \n",
      "---  ------  --------------  -----  \n",
      " 0   Date    1258 non-null   object \n",
      " 1   Open    1258 non-null   float64\n",
      " 2   High    1258 non-null   float64\n",
      " 3   Low     1258 non-null   float64\n",
      " 4   Close   1258 non-null   object \n",
      " 5   Volume  1258 non-null   object \n",
      "dtypes: float64(3), object(3)\n",
      "memory usage: 59.1+ KB\n"
     ]
    }
   ],
   "source": [
    "data.info()"
   ]
  },
  {
   "cell_type": "code",
   "execution_count": 16,
   "id": "788f167c",
   "metadata": {},
   "outputs": [],
   "source": [
    "data[\"Close\"]=pd.to_numeric(data.Close,errors='coerce')\n",
    "data=data.dropna()\n",
    "trainData=data.iloc[:,4:5].values"
   ]
  },
  {
   "cell_type": "code",
   "execution_count": 17,
   "id": "6c140ec9",
   "metadata": {},
   "outputs": [
    {
     "name": "stdout",
     "output_type": "stream",
     "text": [
      "<class 'pandas.core.frame.DataFrame'>\n",
      "Index: 1149 entries, 0 to 1257\n",
      "Data columns (total 6 columns):\n",
      " #   Column  Non-Null Count  Dtype  \n",
      "---  ------  --------------  -----  \n",
      " 0   Date    1149 non-null   object \n",
      " 1   Open    1149 non-null   float64\n",
      " 2   High    1149 non-null   float64\n",
      " 3   Low     1149 non-null   float64\n",
      " 4   Close   1149 non-null   float64\n",
      " 5   Volume  1149 non-null   object \n",
      "dtypes: float64(4), object(2)\n",
      "memory usage: 62.8+ KB\n"
     ]
    }
   ],
   "source": [
    "data.info()"
   ]
  },
  {
   "cell_type": "code",
   "execution_count": 18,
   "id": "fd4e5ec3",
   "metadata": {},
   "outputs": [
    {
     "data": {
      "text/plain": [
       "(1149, 1)"
      ]
     },
     "execution_count": 18,
     "metadata": {},
     "output_type": "execute_result"
    }
   ],
   "source": [
    "sc=MinMaxScaler(feature_range=(0,1))\n",
    "trainData=sc.fit_transform(trainData)\n",
    "trainData.shape"
   ]
  },
  {
   "cell_type": "code",
   "execution_count": 19,
   "id": "068218c0",
   "metadata": {},
   "outputs": [],
   "source": [
    "x_train=[]\n",
    "y_train=[]\n",
    "for  i in range (60,1149): #60 : timestep // 1149 : Length of the data\n",
    "    x_train.append(trainData[i-60:i,0])\n",
    "    y_train.append(trainData[i,0])\n",
    "x_train,y_train = np.array(x_train),np.array(y_train)    "
   ]
  },
  {
   "cell_type": "code",
   "execution_count": 27,
   "id": "22d150a9",
   "metadata": {},
   "outputs": [],
   "source": [
    "model = Sequential()\n",
    "model.add(LSTM(units=100,return_sequences=True,input_shape=(x_train.shape[1],1)))\n",
    "model.add(Dropout(0.2))\n",
    "model.add(LSTM(units=100,return_sequences=True))\n",
    "model.add(Dropout(0.2))\n",
    "model.add(LSTM(units=100,return_sequences=True))\n",
    "model.add(Dropout(0.2))\n",
    "model.add(LSTM(units=100,return_sequences=False))\n",
    "model.add(Dropout(0.2))\n",
    "model.add(Dense(units=1))\n",
    "model.compile(optimizer='adam',loss=\"mean_squared_error\")"
   ]
  },
  {
   "cell_type": "code",
   "execution_count": 28,
   "id": "0f9702f3",
   "metadata": {},
   "outputs": [],
   "source": [
    "import tensorflow as tf"
   ]
  },
  {
   "cell_type": "code",
   "execution_count": 29,
   "id": "6a60a5e3",
   "metadata": {},
   "outputs": [
    {
     "name": "stdout",
     "output_type": "stream",
     "text": [
      "Epoch 1/20\n",
      "35/35 - 14s - loss: 0.0320 - 14s/epoch - 414ms/step\n",
      "Epoch 2/20\n",
      "35/35 - 10s - loss: 0.0105 - 10s/epoch - 290ms/step\n",
      "Epoch 3/20\n",
      "35/35 - 9s - loss: 0.0090 - 9s/epoch - 251ms/step\n",
      "Epoch 4/20\n",
      "35/35 - 8s - loss: 0.0087 - 8s/epoch - 219ms/step\n",
      "Epoch 5/20\n",
      "35/35 - 8s - loss: 0.0084 - 8s/epoch - 230ms/step\n",
      "Epoch 6/20\n",
      "35/35 - 7s - loss: 0.0072 - 7s/epoch - 199ms/step\n",
      "Epoch 7/20\n",
      "35/35 - 8s - loss: 0.0067 - 8s/epoch - 233ms/step\n",
      "Epoch 8/20\n",
      "35/35 - 7s - loss: 0.0067 - 7s/epoch - 214ms/step\n",
      "Epoch 9/20\n",
      "35/35 - 10s - loss: 0.0067 - 10s/epoch - 278ms/step\n",
      "Epoch 10/20\n",
      "35/35 - 10s - loss: 0.0059 - 10s/epoch - 284ms/step\n",
      "Epoch 11/20\n",
      "35/35 - 9s - loss: 0.0060 - 9s/epoch - 253ms/step\n",
      "Epoch 12/20\n",
      "35/35 - 10s - loss: 0.0059 - 10s/epoch - 274ms/step\n",
      "Epoch 13/20\n",
      "35/35 - 8s - loss: 0.0057 - 8s/epoch - 234ms/step\n",
      "Epoch 14/20\n",
      "35/35 - 9s - loss: 0.0071 - 9s/epoch - 268ms/step\n",
      "Epoch 15/20\n",
      "35/35 - 9s - loss: 0.0065 - 9s/epoch - 265ms/step\n",
      "Epoch 16/20\n",
      "35/35 - 9s - loss: 0.0055 - 9s/epoch - 251ms/step\n",
      "Epoch 17/20\n",
      "35/35 - 9s - loss: 0.0052 - 9s/epoch - 269ms/step\n",
      "Epoch 18/20\n",
      "35/35 - 10s - loss: 0.0054 - 10s/epoch - 272ms/step\n",
      "Epoch 19/20\n",
      "35/35 - 9s - loss: 0.0052 - 9s/epoch - 254ms/step\n",
      "Epoch 20/20\n",
      "35/35 - 10s - loss: 0.0047 - 10s/epoch - 278ms/step\n"
     ]
    }
   ],
   "source": [
    "hist= model.fit(x_train, y_train, epochs = 20, batch_size = 32,verbose=2)"
   ]
  },
  {
   "cell_type": "code",
   "execution_count": 30,
   "id": "40c5219f",
   "metadata": {},
   "outputs": [
    {
     "data": {
      "image/png": "[encoded data removed]",
      "text/plain": [
       "<Figure size 640x480 with 1 Axes>"
      ]
     },
     "metadata": {},
     "output_type": "display_data"
    }
   ],
   "source": [
    "plt.plot(hist.history['loss'])\n",
    "plt.title('Training model loss')\n",
    "plt.ylabel('loss')\n",
    "plt.xlabel('epoch')\n",
    "plt.legend(['train'], loc='upper left')\n",
    "plt.show()"
   ]
  },
  {
   "cell_type": "code",
   "execution_count": 31,
   "id": "601ad670",
   "metadata": {},
   "outputs": [
    {
     "data": {
      "text/plain": [
       "(192, 60, 1)"
      ]
     },
     "execution_count": 31,
     "metadata": {},
     "output_type": "execute_result"
    }
   ],
   "source": [
    "testData=pd.read_csv('Google_test_data.csv')\n",
    "testData[\"Close\"]=pd.to_numeric(testData.Close,errors='coerce')\n",
    "testData=testData.dropna()\n",
    "testData=testData.iloc[:,4:5]\n",
    "y_test=testData.iloc[60:,0:].values\n",
    "#input array for the model\n",
    "inputClosing=testData.iloc[:,0:].values\n",
    "inputClosing_scaled=sc.transform(inputClosing)\n",
    "inputClosing_scaled.shape\n",
    "x_test=[]\n",
    "length=len(testData)\n",
    "timestep = 60\n",
    "for i in range(timestep,length):\n",
    "    x_test.append(inputClosing_scaled[i-timestep:i,0])\n",
    "x_test=np.array(x_test)\n",
    "x_test=np.reshape(x_test,(x_test.shape[0],x_test.shape[1],1))\n",
    "x_test.shape"
   ]
  },
  {
   "cell_type": "code",
   "execution_count": 32,
   "id": "3a785108",
   "metadata": {},
   "outputs": [
    {
     "name": "stdout",
     "output_type": "stream",
     "text": [
      "6/6 [==============================] - 2s 83ms/step\n"
     ]
    },
    {
     "data": {
      "text/plain": [
       "array([[1.2068661],\n",
       "       [1.21037  ],\n",
       "       [1.2214705],\n",
       "       [1.2384467],\n",
       "       [1.2534553],\n",
       "       [1.2564603],\n",
       "       [1.2462406],\n",
       "       [1.229225 ],\n",
       "       [1.216111 ],\n",
       "       [1.2105565],\n",
       "       [1.2033657],\n",
       "       [1.1926122],\n",
       "       [1.1824315],\n",
       "       [1.1729518],\n",
       "       [1.1698041],\n",
       "       [1.1732346],\n",
       "       [1.1894424],\n",
       "       [1.216612 ],\n",
       "       [1.2492043],\n",
       "       [1.2825673],\n",
       "       [1.2996584],\n",
       "       [1.3001343],\n",
       "       [1.2826422],\n",
       "       [1.2541484],\n",
       "       [1.2258421],\n",
       "       [1.2069992],\n",
       "       [1.1996238],\n",
       "       [1.1974372],\n",
       "       [1.1911587],\n",
       "       [1.1815313],\n",
       "       [1.1703726],\n",
       "       [1.1574819],\n",
       "       [1.1386219],\n",
       "       [1.1148933],\n",
       "       [1.102958 ],\n",
       "       [1.1092635],\n",
       "       [1.1291982],\n",
       "       [1.1544313],\n",
       "       [1.1797587],\n",
       "       [1.1951498],\n",
       "       [1.208829 ],\n",
       "       [1.2237872],\n",
       "       [1.2406123],\n",
       "       [1.2565848],\n",
       "       [1.267956 ],\n",
       "       [1.2704378],\n",
       "       [1.2618763],\n",
       "       [1.2521313],\n",
       "       [1.2473916],\n",
       "       [1.2505133],\n",
       "       [1.2613655],\n",
       "       [1.270455 ],\n",
       "       [1.2743124],\n",
       "       [1.272724 ],\n",
       "       [1.2711719],\n",
       "       [1.267686 ],\n",
       "       [1.2600116],\n",
       "       [1.2551597],\n",
       "       [1.2616314],\n",
       "       [1.2776474],\n",
       "       [1.3022704],\n",
       "       [1.332926 ],\n",
       "       [1.3568689],\n",
       "       [1.3646599],\n",
       "       [1.3561703],\n",
       "       [1.3374594],\n",
       "       [1.321513 ],\n",
       "       [1.3136308],\n",
       "       [1.3139328],\n",
       "       [1.3178381],\n",
       "       [1.3230138],\n",
       "       [1.3268228],\n",
       "       [1.324733 ],\n",
       "       [1.3199931],\n",
       "       [1.3152581],\n",
       "       [1.3132476],\n",
       "       [1.3145391],\n",
       "       [1.3189708],\n",
       "       [1.3296673],\n",
       "       [1.3464683],\n",
       "       [1.3687054],\n",
       "       [1.3910954],\n",
       "       [1.4056706],\n",
       "       [1.4098951],\n",
       "       [1.413198 ],\n",
       "       [1.4230739],\n",
       "       [1.4387132],\n",
       "       [1.4537702],\n",
       "       [1.4636708],\n",
       "       [1.4670949],\n",
       "       [1.468538 ],\n",
       "       [1.4758326],\n",
       "       [1.49061  ],\n",
       "       [1.5026604],\n",
       "       [1.5042527],\n",
       "       [1.4938517],\n",
       "       [1.4733735],\n",
       "       [1.4479775],\n",
       "       [1.4249791],\n",
       "       [1.413653 ],\n",
       "       [1.4163715],\n",
       "       [1.4304314],\n",
       "       [1.4518481],\n",
       "       [1.4727979],\n",
       "       [1.487573 ],\n",
       "       [1.4931115],\n",
       "       [1.4919621],\n",
       "       [1.4879419],\n",
       "       [1.4867221],\n",
       "       [1.4900826],\n",
       "       [1.497867 ],\n",
       "       [1.5096451],\n",
       "       [1.5224749],\n",
       "       [1.5362878],\n",
       "       [1.552831 ],\n",
       "       [1.5676161],\n",
       "       [1.5792817],\n",
       "       [1.5889195],\n",
       "       [1.5999267],\n",
       "       [1.5869261],\n",
       "       [1.5451932],\n",
       "       [1.4869177],\n",
       "       [1.4341943],\n",
       "       [1.399785 ],\n",
       "       [1.3824621],\n",
       "       [1.3764887],\n",
       "       [1.3765289],\n",
       "       [1.3800513],\n",
       "       [1.3781414],\n",
       "       [1.3673278],\n",
       "       [1.360974 ],\n",
       "       [1.3675495],\n",
       "       [1.3817362],\n",
       "       [1.3919295],\n",
       "       [1.3964143],\n",
       "       [1.3968527],\n",
       "       [1.3928851],\n",
       "       [1.3844253],\n",
       "       [1.3738397],\n",
       "       [1.3598443],\n",
       "       [1.3447113],\n",
       "       [1.3281962],\n",
       "       [1.2975821],\n",
       "       [1.2591377],\n",
       "       [1.2200658],\n",
       "       [1.1879073],\n",
       "       [1.1713902],\n",
       "       [1.1743696],\n",
       "       [1.1924075],\n",
       "       [1.217378 ],\n",
       "       [1.2443489],\n",
       "       [1.2680161],\n",
       "       [1.286693 ],\n",
       "       [1.3019228],\n",
       "       [1.3135608],\n",
       "       [1.3230575],\n",
       "       [1.3326315],\n",
       "       [1.3404309],\n",
       "       [1.3386292],\n",
       "       [1.3254408],\n",
       "       [1.304233 ],\n",
       "       [1.2819278],\n",
       "       [1.2672948],\n",
       "       [1.2656454],\n",
       "       [1.2773954],\n",
       "       [1.2995602],\n",
       "       [1.3223029],\n",
       "       [1.3410364],\n",
       "       [1.3570725],\n",
       "       [1.3711375],\n",
       "       [1.3825843],\n",
       "       [1.3916355],\n",
       "       [1.3985987],\n",
       "       [1.4015589],\n",
       "       [1.4003508],\n",
       "       [1.3924835],\n",
       "       [1.3814669],\n",
       "       [1.3725945],\n",
       "       [1.3661342],\n",
       "       [1.360577 ],\n",
       "       [1.3821293],\n",
       "       [1.4285512],\n",
       "       [1.4816352],\n",
       "       [1.5236846],\n",
       "       [1.5452626],\n",
       "       [1.5438685],\n",
       "       [1.5162965],\n",
       "       [1.4768113],\n",
       "       [1.439451 ],\n",
       "       [1.4192771],\n",
       "       [1.4142461],\n",
       "       [1.4157592]], dtype=float32)"
      ]
     },
     "execution_count": 32,
     "metadata": {},
     "output_type": "execute_result"
    }
   ],
   "source": [
    "y_pred=model.predict(x_test)\n",
    "y_pred"
   ]
  },
  {
   "cell_type": "code",
   "execution_count": 33,
   "id": "c263371f",
   "metadata": {},
   "outputs": [],
   "source": [
    "predicted_price=sc.inverse_transform(y_pred)"
   ]
  },
  {
   "cell_type": "code",
   "execution_count": 34,
   "id": "4c83f8ef",
   "metadata": {},
   "outputs": [
    {
     "data": {
      "image/png": "[encoded data removed]",
      "text/plain": [
       "<Figure size 640x480 with 1 Axes>"
      ]
     },
     "metadata": {},
     "output_type": "display_data"
    }
   ],
   "source": [
    "plt.plot(y_test,color='red',label='Actual Stock Price')\n",
    "plt.plot(predicted_price,color='green',label='Predicted Stock Price')\n",
    "plt.title('Google stock price prediction')\n",
    "plt.xlabel('Time')\n",
    "plt.ylabel('Stock Price')\n",
    "plt.legend()\n",
    "plt.show()"
   ]
  },
  {
   "cell_type": "code",
   "execution_count": null,
   "id": "ee0bd9fc",
   "metadata": {},
   "outputs": [],
   "source": []
  }
 ],
 "metadata": {
  "kernelspec": {
   "display_name": "Python 3 (ipykernel)",
   "language": "python",
   "name": "python3"
  },
  "language_info": {
   "codemirror_mode": {
    "name": "ipython",
    "version": 3
   },
   "file_extension": ".py",
   "mimetype": "text/x-python",
   "name": "python",
   "nbconvert_exporter": "python",
   "pygments_lexer": "ipython3",
   "version": "3.10.12"
  }
 },
 "nbformat": 4,
 "nbformat_minor": 5
}
